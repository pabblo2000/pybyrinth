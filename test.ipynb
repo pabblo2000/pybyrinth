{
 "cells": [
  {
   "cell_type": "code",
   "execution_count": 1,
   "metadata": {},
   "outputs": [
    {
     "name": "stdout",
     "output_type": "stream",
     "text": [
      "      █B███ \n",
      "█ ███ █   █ \n",
      "█ █ █ █ █ █ \n",
      "█ █ █ █ █ █ \n",
      "█ █ █ █ █ █ \n",
      "█   █   █ █ \n",
      "█ ███████ █ \n",
      "█         █ \n",
      "█████████ A \n"
     ]
    }
   ],
   "source": [
    "import maze as mz\n",
    "\n",
    "#Nombre del archivo\n",
    "file = \"maze5.txt\"\n",
    "file_path = \"files/\" + file\n",
    "\n",
    "# Leer el laberinto desde un archivo\n",
    "maze = mz.read(file_path)\n",
    "print(maze)\n",
    "\n",
    "# Guardar el laberinto en un archivo\n",
    "maze.to_img(\"img/maze.png\")"
   ]
  },
  {
   "cell_type": "code",
   "execution_count": 9,
   "metadata": {},
   "outputs": [
    {
     "name": "stdout",
     "output_type": "stream",
     "text": [
      " *****█B███ \n",
      "█*███*█*  █ \n",
      "█*█ █*█*█ █ \n",
      "█*█ █*█*█ █ \n",
      "█*█ █*█*█ █ \n",
      "█*  █***█ █ \n",
      "█*███████ █ \n",
      "█*********█ \n",
      "█████████*A \n"
     ]
    }
   ],
   "source": [
    "# Resolver el laberinto con DFS\n",
    "maze_solvedDFS = maze.solve(method='DFS')\n",
    "print(maze_solvedDFS)\n",
    "\n",
    "# Guardar el laberinto resuelto en un archivo\n",
    "maze_solvedDFS.to_img(\"img/maze_solved_DFS.png\", show_solution=True, show_explored=True)"
   ]
  },
  {
   "cell_type": "code",
   "execution_count": 12,
   "metadata": {},
   "outputs": [
    {
     "name": "stdout",
     "output_type": "stream",
     "text": [
      "      █B███ \n",
      "█ ███ █***█ \n",
      "█ █ █ █ █*█ \n",
      "█ █ █ █ █*█ \n",
      "█ █ █ █ █*█ \n",
      "█   █   █*█ \n",
      "█ ███████*█ \n",
      "█        *█ \n",
      "█████████*A \n"
     ]
    }
   ],
   "source": [
    "# Resolver el laberinto con BFS(Breadth First Search)\n",
    "maze_solvedBFS = maze.solve(method='BFS')\n",
    "print(maze_solvedBFS)\n",
    "\n",
    "#Guardar el laberinto resuelto en un archivo\n",
    "maze_solvedBFS.to_img(\"img/maze_solved_BFS.png\", show_solution=True, show_explored=True)"
   ]
  },
  {
   "cell_type": "code",
   "execution_count": 11,
   "metadata": {},
   "outputs": [
    {
     "name": "stdout",
     "output_type": "stream",
     "text": [
      "      █B███ \n",
      "█ ███ █   █ \n",
      "█ █ █ █ █ █ \n",
      "█ █ █ █ █ █ \n",
      "█ █ █ █ █ █ \n",
      "█   █   █ █ \n",
      "█ ███████ █ \n",
      "█         █ \n",
      "█████████ A \n"
     ]
    }
   ],
   "source": [
    "# Imprimir maze y asi ver el laberinto original\n",
    "print(maze)"
   ]
  }
 ],
 "metadata": {
  "kernelspec": {
   "display_name": "Python 3",
   "language": "python",
   "name": "python3"
  },
  "language_info": {
   "codemirror_mode": {
    "name": "ipython",
    "version": 3
   },
   "file_extension": ".py",
   "mimetype": "text/x-python",
   "name": "python",
   "nbconvert_exporter": "python",
   "pygments_lexer": "ipython3",
   "version": "3.12.7"
  }
 },
 "nbformat": 4,
 "nbformat_minor": 2
}
