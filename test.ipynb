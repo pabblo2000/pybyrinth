{
 "cells": [
  {
   "cell_type": "code",
   "execution_count": 12,
   "metadata": {},
   "outputs": [
    {
     "name": "stdout",
     "output_type": "stream",
     "text": [
      " █████████\n",
      " █     █B \n",
      " █ ███ ██ \n",
      "   █ █    \n",
      " ███ █ ██ \n",
      " █      █ \n",
      " ████████ \n",
      "     █  █ \n",
      " ███ ██ █ \n",
      "A█        \n",
      "Pasos para llegar a la salida: El laberinto no ha sido resuelto aún.\n",
      "Pasos que ha tomado: El laberinto no ha sido resuelto aún.\n"
     ]
    }
   ],
   "source": [
    "import pybyrinth_2 as mz\n",
    "\n",
    "#Nombre del archivo\n",
    "file = \"maze9.txt\"\n",
    "file_path = \"files/\" + file\n",
    "\n",
    "# Leer el laberinto desde un archivo\n",
    "maze = mz.read(file_path)\n",
    "print(maze)\n",
    "\n",
    "# Guardar el laberinto en un archivo\n",
    "maze.to_img(\"img/maze.png\")\n",
    "\n",
    "# Mostrar pasos\n",
    "print(\"Pasos para llegar a la salida:\", maze.info())\n",
    "\n",
    "# Pasos que ha tomado\n",
    "print(\"Pasos que ha tomado:\", maze.steps())"
   ]
  },
  {
   "cell_type": "code",
   "execution_count": 13,
   "metadata": {},
   "outputs": [
    {
     "name": "stdout",
     "output_type": "stream",
     "text": [
      " █████████\n",
      " █     █B*\n",
      " █ ███ ██*\n",
      "   █ █   *\n",
      " ███ █ ██*\n",
      " █      █*\n",
      " ████████*\n",
      "*****█  █*\n",
      "*███*██ █*\n",
      "A█  ******\n",
      "Pasos para llegar a la salida: Número de pasos para resolver el laberinto: 22\n",
      "Pasos que ha tomado: [(8, 0), (7, 0), (7, 1), (7, 2), (7, 3), (7, 4), (8, 4), (9, 4), (9, 5), (9, 6), (9, 7), (9, 8), (9, 9), (8, 9), (7, 9), (6, 9), (5, 9), (4, 9), (3, 9), (2, 9), (1, 9), (1, 8)]\n"
     ]
    }
   ],
   "source": [
    "# Resolver el laberinto con DFS\n",
    "maze_solvedDFS = maze.solve(method='DFS')\n",
    "print(maze_solvedDFS)\n",
    "\n",
    "# Guardar el laberinto resuelto en un archivo\n",
    "maze_solvedDFS.to_img(\"img/maze_solved_DFS.png\", show_solution=True, show_explored=True)\n",
    "\n",
    "# Mostrar pasos\n",
    "print(\"Pasos para llegar a la salida:\", maze_solvedDFS.info())\n",
    "\n",
    "# Pasos que ha tomado\n",
    "print(\"Pasos que ha tomado:\", maze_solvedDFS.steps())"
   ]
  },
  {
   "cell_type": "code",
   "execution_count": 14,
   "metadata": {},
   "outputs": [
    {
     "name": "stdout",
     "output_type": "stream",
     "text": [
      " █████████\n",
      " █*****█B*\n",
      " █*███*██*\n",
      "***█ █****\n",
      "*███ █ ██ \n",
      "*█      █ \n",
      "*████████ \n",
      "*    █  █ \n",
      "*███ ██ █ \n",
      "A█        \n",
      "Pasos para llegar a la salida: Número de pasos para resolver el laberinto: 22\n",
      "Pasos que ha tomado: [(8, 0), (7, 0), (6, 0), (5, 0), (4, 0), (3, 0), (3, 1), (3, 2), (2, 2), (1, 2), (1, 3), (1, 4), (1, 5), (1, 6), (2, 6), (3, 6), (3, 7), (3, 8), (3, 9), (2, 9), (1, 9), (1, 8)]\n"
     ]
    }
   ],
   "source": [
    "# Resolver el laberinto con BFS(Breadth First Search)\n",
    "maze_solvedBFS = maze.solve(method='BFS')\n",
    "print(maze_solvedBFS)\n",
    "\n",
    "#Guardar el laberinto resuelto en un archivo\n",
    "maze_solvedBFS.to_img(\"img/maze_solved_BFS.png\", show_solution=True, show_explored=True)\n",
    "\n",
    "# Mostrar pasos\n",
    "print(\"Pasos para llegar a la salida:\", maze_solvedBFS.info())\n",
    "\n",
    "# Pasos que ha tomado\n",
    "print(\"Pasos que ha tomado:\", maze_solvedBFS.steps())"
   ]
  },
  {
   "cell_type": "code",
   "execution_count": 15,
   "metadata": {},
   "outputs": [
    {
     "name": "stdout",
     "output_type": "stream",
     "text": [
      " █████████\n",
      " █     █B \n",
      " █ ███ ██ \n",
      "   █ █    \n",
      " ███ █ ██ \n",
      " █      █ \n",
      " ████████ \n",
      "     █  █ \n",
      " ███ ██ █ \n",
      "A█        \n",
      "Pasos para llegar a la salida: El laberinto no ha sido resuelto aún.\n",
      "Pasos que ha tomado: El laberinto no ha sido resuelto aún.\n"
     ]
    }
   ],
   "source": [
    "# Imprimir maze y asi ver el laberinto original\n",
    "print(maze)\n",
    "\n",
    "# Mostrar pasos\n",
    "print(\"Pasos para llegar a la salida:\", maze.info())\n",
    "\n",
    "# Pasos que ha tomado\n",
    "print(\"Pasos que ha tomado:\", maze.steps())"
   ]
  },
  {
   "cell_type": "code",
   "execution_count": 16,
   "metadata": {},
   "outputs": [],
   "source": [
    "maze_created = mz.create(x = 10, y = 8)"
   ]
  }
 ],
 "metadata": {
  "kernelspec": {
   "display_name": "Python 3",
   "language": "python",
   "name": "python3"
  },
  "language_info": {
   "codemirror_mode": {
    "name": "ipython",
    "version": 3
   },
   "file_extension": ".py",
   "mimetype": "text/x-python",
   "name": "python",
   "nbconvert_exporter": "python",
   "pygments_lexer": "ipython3",
   "version": "3.12.7"
  }
 },
 "nbformat": 4,
 "nbformat_minor": 2
}
