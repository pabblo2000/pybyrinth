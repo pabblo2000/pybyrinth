{
 "cells": [
  {
   "cell_type": "code",
   "execution_count": 17,
   "metadata": {},
   "outputs": [
    {
     "name": "stdout",
     "output_type": "stream",
     "text": [
      "B     █████ \n",
      "█ ███ █   █ \n",
      "█ █ █ █ █ █ \n",
      "█ █ █ █ █ █ \n",
      "█ █ █ █ █ █ \n",
      "█   █   █ █ \n",
      "█ ███████ █ \n",
      "█         █ \n",
      "█████████ A \n"
     ]
    }
   ],
   "source": [
    "import maze as mz\n",
    "\n",
    "# Leer el laberinto desde un archivo\n",
    "maze = mz.read(\"mazes/maze2.txt\")\n",
    "print(maze)\n",
    "\n",
    "# Guardar el laberinto en un archivo\n",
    "maze.output_image(\"img/maze2.png\")"
   ]
  },
  {
   "cell_type": "code",
   "execution_count": 18,
   "metadata": {},
   "outputs": [
    {
     "name": "stdout",
     "output_type": "stream",
     "text": [
      "B*    █████ \n",
      "█*███ █   █ \n",
      "█*█ █ █ █ █ \n",
      "█*█ █ █ █ █ \n",
      "█*█ █ █ █ █ \n",
      "█*  █   █ █ \n",
      "█*███████ █ \n",
      "█*********█ \n",
      "█████████*A  \n",
      "\n",
      "B*    █████ \n",
      "█*███ █   █ \n",
      "█*█ █ █ █ █ \n",
      "█*█ █ █ █ █ \n",
      "█*█ █ █ █ █ \n",
      "█*  █   █ █ \n",
      "█*███████ █ \n",
      "█*********█ \n",
      "█████████*A \n"
     ]
    }
   ],
   "source": [
    "# Resolver el laberinto con DFS\n",
    "maze_solvedDFS = maze.solve(method='DFS')\n",
    "print(maze_solvedDFS, '\\n')\n",
    "\n",
    "# Guardar el laberinto resuelto en un archivo\n",
    "maze_solvedDFS.output_image(\"img/maze2_solved_DFS.png\", show_solution=True, show_explored=True)\n",
    "\n",
    "# Resolver el laberinto con BFS\n",
    "maze_solvedBFS = maze.solve(method='BFS')\n",
    "print(maze_solvedBFS)\n",
    "\n",
    "#Guardar el laberinto resuelto en un archivo\n",
    "maze_solvedBFS.output_image(\"img/maze2_solved_BFS.png\", show_solution=True, show_explored=True)\n",
    "\n",
    "# # Resolver el laberinto con A*\n",
    "# maze_solved3 = maze.solve(method='A*')\n",
    "# print(maze_solved3)\n",
    "\n",
    "# # Resolver el laberinto con Dijkstra\n",
    "# maze_solved4 = maze.solve(method='Dijkstra')\n",
    "# print(maze_solved4)"
   ]
  },
  {
   "cell_type": "code",
   "execution_count": 19,
   "metadata": {},
   "outputs": [
    {
     "name": "stdout",
     "output_type": "stream",
     "text": [
      "B*    █████ \n",
      "█*███ █   █ \n",
      "█*█ █ █ █ █ \n",
      "█*█ █ █ █ █ \n",
      "█*█ █ █ █ █ \n",
      "█*  █   █ █ \n",
      "█*███████ █ \n",
      "█*********█ \n",
      "█████████*A \n"
     ]
    }
   ],
   "source": [
    "print(maze)"
   ]
  }
 ],
 "metadata": {
  "kernelspec": {
   "display_name": "Python 3",
   "language": "python",
   "name": "python3"
  },
  "language_info": {
   "codemirror_mode": {
    "name": "ipython",
    "version": 3
   },
   "file_extension": ".py",
   "mimetype": "text/x-python",
   "name": "python",
   "nbconvert_exporter": "python",
   "pygments_lexer": "ipython3",
   "version": "3.12.7"
  }
 },
 "nbformat": 4,
 "nbformat_minor": 2
}
