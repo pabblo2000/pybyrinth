{
 "cells": [
  {
   "cell_type": "code",
   "execution_count": 30,
   "metadata": {},
   "outputs": [
    {
     "name": "stdout",
     "output_type": "stream",
     "text": [
      "      █B███ \n",
      "█ ███ █   █ \n",
      "█ █ █ █ █ █ \n",
      "█ █ █ █ █ █ \n",
      "█ █ █ █ █ █ \n",
      "█   █   █ █ \n",
      "█ ███████ █ \n",
      "█         █ \n",
      "█████████ A \n"
     ]
    }
   ],
   "source": [
    "import maze as mz\n",
    "\n",
    "#Nombre del archivo\n",
    "file = \"maze5.txt\"\n",
    "file_path = \"files/\" + file\n",
    "\n",
    "# Leer el laberinto desde un archivo\n",
    "maze = mz.read(file_path)\n",
    "print(maze)\n",
    "\n",
    "# Guardar el laberinto en un archivo\n",
    "maze.output_image(\"img/maze.png\")"
   ]
  },
  {
   "cell_type": "code",
   "execution_count": 27,
   "metadata": {},
   "outputs": [
    {
     "ename": "Exception",
     "evalue": "No hay solución para este laberinto",
     "output_type": "error",
     "traceback": [
      "\u001b[1;31m---------------------------------------------------------------------------\u001b[0m",
      "\u001b[1;31mException\u001b[0m                                 Traceback (most recent call last)",
      "Cell \u001b[1;32mIn[27], line 2\u001b[0m\n\u001b[0;32m      1\u001b[0m \u001b[38;5;66;03m# Resolver el laberinto con DFS\u001b[39;00m\n\u001b[1;32m----> 2\u001b[0m maze_solvedDFS \u001b[38;5;241m=\u001b[39m \u001b[43mmaze\u001b[49m\u001b[38;5;241;43m.\u001b[39;49m\u001b[43msolve\u001b[49m\u001b[43m(\u001b[49m\u001b[43mmethod\u001b[49m\u001b[38;5;241;43m=\u001b[39;49m\u001b[38;5;124;43m'\u001b[39;49m\u001b[38;5;124;43mDFS\u001b[39;49m\u001b[38;5;124;43m'\u001b[39;49m\u001b[43m)\u001b[49m\n\u001b[0;32m      3\u001b[0m \u001b[38;5;28mprint\u001b[39m(maze_solvedDFS)\n\u001b[0;32m      5\u001b[0m \u001b[38;5;66;03m# Guardar el laberinto resuelto en un archivo\u001b[39;00m\n",
      "File \u001b[1;32md:\\GitHub\\Labyrinth\\maze.py:138\u001b[0m, in \u001b[0;36mMaze.solve\u001b[1;34m(self, method)\u001b[0m\n\u001b[0;32m    136\u001b[0m \u001b[38;5;28;01mwhile\u001b[39;00m \u001b[38;5;28;01mTrue\u001b[39;00m:\n\u001b[0;32m    137\u001b[0m     \u001b[38;5;28;01mif\u001b[39;00m frontier\u001b[38;5;241m.\u001b[39mempty():\n\u001b[1;32m--> 138\u001b[0m         \u001b[38;5;28;01mraise\u001b[39;00m \u001b[38;5;167;01mException\u001b[39;00m(\u001b[38;5;124m\"\u001b[39m\u001b[38;5;124mNo hay solución para este laberinto\u001b[39m\u001b[38;5;124m\"\u001b[39m)\n\u001b[0;32m    140\u001b[0m     node \u001b[38;5;241m=\u001b[39m frontier\u001b[38;5;241m.\u001b[39mremove()\n\u001b[0;32m    141\u001b[0m     copy_maze\u001b[38;5;241m.\u001b[39mnum_explored \u001b[38;5;241m+\u001b[39m\u001b[38;5;241m=\u001b[39m \u001b[38;5;241m1\u001b[39m\n",
      "\u001b[1;31mException\u001b[0m: No hay solución para este laberinto"
     ]
    }
   ],
   "source": [
    "# Resolver el laberinto con DFS\n",
    "maze_solvedDFS = maze.solve(method='DFS')\n",
    "print(maze_solvedDFS)\n",
    "\n",
    "# Guardar el laberinto resuelto en un archivo\n",
    "maze_solvedDFS.output_image(\"img/maze_solved_DFS.png\", show_solution=True, show_explored=True)"
   ]
  },
  {
   "cell_type": "code",
   "execution_count": 28,
   "metadata": {},
   "outputs": [
    {
     "ename": "Exception",
     "evalue": "No hay solución para este laberinto",
     "output_type": "error",
     "traceback": [
      "\u001b[1;31m---------------------------------------------------------------------------\u001b[0m",
      "\u001b[1;31mException\u001b[0m                                 Traceback (most recent call last)",
      "Cell \u001b[1;32mIn[28], line 2\u001b[0m\n\u001b[0;32m      1\u001b[0m \u001b[38;5;66;03m# Resolver el laberinto con BFS(Breadth First Search)\u001b[39;00m\n\u001b[1;32m----> 2\u001b[0m maze_solvedBFS \u001b[38;5;241m=\u001b[39m \u001b[43mmaze\u001b[49m\u001b[38;5;241;43m.\u001b[39;49m\u001b[43msolve\u001b[49m\u001b[43m(\u001b[49m\u001b[43mmethod\u001b[49m\u001b[38;5;241;43m=\u001b[39;49m\u001b[38;5;124;43m'\u001b[39;49m\u001b[38;5;124;43mBFS\u001b[39;49m\u001b[38;5;124;43m'\u001b[39;49m\u001b[43m)\u001b[49m\n\u001b[0;32m      3\u001b[0m \u001b[38;5;28mprint\u001b[39m(maze_solvedBFS)\n\u001b[0;32m      5\u001b[0m \u001b[38;5;66;03m#Guardar el laberinto resuelto en un archivo\u001b[39;00m\n",
      "File \u001b[1;32md:\\GitHub\\Labyrinth\\maze.py:138\u001b[0m, in \u001b[0;36mMaze.solve\u001b[1;34m(self, method)\u001b[0m\n\u001b[0;32m    136\u001b[0m \u001b[38;5;28;01mwhile\u001b[39;00m \u001b[38;5;28;01mTrue\u001b[39;00m:\n\u001b[0;32m    137\u001b[0m     \u001b[38;5;28;01mif\u001b[39;00m frontier\u001b[38;5;241m.\u001b[39mempty():\n\u001b[1;32m--> 138\u001b[0m         \u001b[38;5;28;01mraise\u001b[39;00m \u001b[38;5;167;01mException\u001b[39;00m(\u001b[38;5;124m\"\u001b[39m\u001b[38;5;124mNo hay solución para este laberinto\u001b[39m\u001b[38;5;124m\"\u001b[39m)\n\u001b[0;32m    140\u001b[0m     node \u001b[38;5;241m=\u001b[39m frontier\u001b[38;5;241m.\u001b[39mremove()\n\u001b[0;32m    141\u001b[0m     copy_maze\u001b[38;5;241m.\u001b[39mnum_explored \u001b[38;5;241m+\u001b[39m\u001b[38;5;241m=\u001b[39m \u001b[38;5;241m1\u001b[39m\n",
      "\u001b[1;31mException\u001b[0m: No hay solución para este laberinto"
     ]
    }
   ],
   "source": [
    "# Resolver el laberinto con BFS(Breadth First Search)\n",
    "maze_solvedBFS = maze.solve(method='BFS')\n",
    "print(maze_solvedBFS)\n",
    "\n",
    "#Guardar el laberinto resuelto en un archivo\n",
    "maze_solvedBFS.output_image(\"img/maze_solved_BFS.png\", show_solution=True, show_explored=True)\n",
    "\n",
    "# # Resolver el laberinto con A*\n",
    "# maze_solved3 = maze.solve(method='A*')\n",
    "# print(maze_solved3)\n",
    "\n",
    "# # Resolver el laberinto con Dijkstra\n",
    "# maze_solved4 = maze.solve(method='Dijkstra')\n",
    "# print(maze_solved4)"
   ]
  }
 ],
 "metadata": {
  "kernelspec": {
   "display_name": "Python 3",
   "language": "python",
   "name": "python3"
  },
  "language_info": {
   "codemirror_mode": {
    "name": "ipython",
    "version": 3
   },
   "file_extension": ".py",
   "mimetype": "text/x-python",
   "name": "python",
   "nbconvert_exporter": "python",
   "pygments_lexer": "ipython3",
   "version": "3.12.7"
  }
 },
 "nbformat": 4,
 "nbformat_minor": 2
}
